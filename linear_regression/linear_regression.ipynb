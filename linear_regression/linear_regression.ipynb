{
 "cells": [
  {
   "cell_type": "code",
   "execution_count": 1,
   "id": "d3b610aa-4cbc-4beb-b699-68c0a818d2e1",
   "metadata": {
    "tags": []
   },
   "outputs": [],
   "source": [
    "base = 'C:/Users/anton/OneDrive/data_science/yandex_practicum/datasets/'"
   ]
  },
  {
   "cell_type": "markdown",
   "id": "9438b321-b7e2-4c3d-b5d6-21ac9c4f38a2",
   "metadata": {},
   "source": [
    "## Plan"
   ]
  },
  {
   "cell_type": "markdown",
   "id": "670458fa-d73a-4756-b37f-3ee47ba3b81e",
   "metadata": {},
   "source": [
    "Plan:\n",
    "\n",
    "1. Linear Regression with exact solution\n",
    "2. Linear Regression with L2 regularization and exact solution\n",
    "3. LR + Gradient descent solution\n",
    "4. L1 and L2 regularization + Gradient descent\n",
    "5. Batch Gradient descent"
   ]
  },
  {
   "cell_type": "markdown",
   "id": "12f720a9-0abd-4f67-9be3-ff81b9527b3c",
   "metadata": {},
   "source": [
    "### Problem\n",
    "\n",
    "Problem: use linear combinations of X to predict y. The idea that linear combination of X is a good way to describe y is our first assumption. Mathematically it can be represented as the Hypothesys Function: \n",
    "\n",
    "$$\n",
    "\\text{Iterative form}\\\\\n",
    "y^{(i)} \\approx h(\\theta) = \\sum_{j=0}^{d} (\\theta_jx_j^{(i)})\n",
    "$$\n",
    "\n",
    "\n",
    "$$\n",
    "\\text{Vector form}\\\\\n",
    "\\vec{y} \\approx h(\\theta) = X*\\theta\n",
    "$$\n",
    "\n",
    "where $X$ - a matrix $n*d$ with  \n",
    "$i \\in \\{1 ... n\\}$ - number of examples (rows)  \n",
    "$j \\in \\{1 ... d\\}$ - number of features (columns)"
   ]
  },
  {
   "cell_type": "markdown",
   "id": "fc975e7c-7ee5-43b8-a6de-81c72e17a9fb",
   "metadata": {},
   "source": [
    "### Loss function\n",
    "\n",
    "The second step - is to find **the best $\\theta$**. There are many ways to describe what 'the best' means. Here are some of them:\n",
    "1. Probabilistic approach / Maximum Likelihood.\n",
    "\n",
    "Assumptions:\n",
    "* Assumes that the errors follow a normal distribution.\n",
    "* Assumes that the errors are independent and identically distributed (i.i.d.).\n",
    "* Then we need to choose **the most likely** $\\theta$ using Maximum Likelihood approach\n",
    "\n",
    "Solution:\n",
    "Minimization of Squared Error\n",
    "\n",
    "2. Linear algebra approach\n",
    "\n",
    "Assumptions:\n",
    "* If $y$ is approximately is a linear combination of $X$, then $\\theta$ should be the closest vector to vector $y$ in column space $X$\n",
    "\n",
    "Solution:\n",
    "Minimization of Squared Error\n",
    "\n",
    "3. Gauss-Markov theorem\n",
    "\n",
    "Assumption (basically, similar to probabilistic approach):\n",
    "* Assumes that the errors have zero mean.\n",
    "* Assumes that the errors have constant variance (homoscedasticity).\n",
    "* Assumes that the errors are uncorrelated.\n",
    "* Assumes that the errors are normally distributed.\n",
    "\n",
    "Then what whould be the BLUE (Best Linear Unbiased Estimators) $\\theta$ - meaning the $\\theta$ with smallest variance?\n",
    "\n",
    "Solution:\n",
    "Minimization of Squared Error\n",
    "\n",
    "Even though minimization of MSE is far from solving the exact buiseness problems, often it works.\n",
    "\n",
    "$$\n",
    "\\text{Iterative form}\\\\\n",
    "J(\\theta) = \\sum_{i=1}^{n} (h^{(i)}(\\theta) - y^{(i)})^2\\\\\n",
    "J(\\theta) = \\sum_{i=1}^{n} (\\sum_{j=0}^{d} (\\theta_{j}x_{j}^{(i)}) - y^{(i)})^2 \\\\\n",
    "\\text{Vector form:} \\\\\n",
    "J(\\theta) = (X*\\theta - y)^T*(X*\\theta - y)\n",
    "$$"
   ]
  },
  {
   "cell_type": "markdown",
   "id": "b2be6629-cecf-40f2-b2b6-7af012950037",
   "metadata": {},
   "source": [
    "### Find the minimum\n",
    "\n",
    "To find the minimum of J there are two ways:\n",
    "* Find the derivative of J with respect to Theta, set it equal to zero and solve the equation for Theta. That's possible for linear regression and the solution is:\n",
    "$$\n",
    "\\theta = (X^T X)^{-1}X^T Y\n",
    "$$\n",
    "* Second way - find the derivative of J with respect to Theta and use gradient descent to find (almost) the minimum.\n",
    "$$\n",
    "\\text{Iterative form}\\\\\n",
    "\\frac{\\partial}{\\partial{\\theta_j}} J(\\theta) = \\sum_{i=1}^{n} (\\sum_{j=0}^{d} (\\theta_{j}x_{j}^{(i)}) - y^{(i)}) * x_{j}^{(i)}) \\\\\n",
    "\\text{Vector form:} \\\\\n",
    "\\nabla J(\\theta) = (X * \\theta - y) * X\n",
    "$$"
   ]
  },
  {
   "cell_type": "markdown",
   "id": "b6a24d45-fa33-4e19-a790-44a2aec3ae9f",
   "metadata": {},
   "source": [
    "### Gradient Descent.\n",
    "\n",
    "Update rule for Theta will be:\n",
    "\n",
    "$$\n",
    "\\text{Iterative form}\\\\\n",
    "\\theta_j := \\theta_j - \\alpha * \\frac{\\partial}{\\partial{\\theta_j}} J(\\theta) \\\\\n",
    "\\theta_j := \\theta_j - \\alpha * \\sum_{i=1}^{n} (\\sum_{j=0}^{d} (\\theta_{j}x_{j}^{(i)}) - y^{(i)}) * x_{j}^{(i)}) \\\\\n",
    "\\text{Vector form:} \\\\\n",
    "\\theta := \\theta - \\alpha * \\nabla J(\\theta) \\\\\n",
    "\\theta := \\theta - \\alpha * (X * \\theta - y) * X\n",
    "$$"
   ]
  },
  {
   "cell_type": "markdown",
   "id": "05e4c605-dd0f-4154-9f66-660ba1a8153c",
   "metadata": {},
   "source": [
    "### Regularization\n",
    "\n"
   ]
  },
  {
   "cell_type": "code",
   "execution_count": 2,
   "id": "e6011ff1-bcde-42e7-855d-9ab19c1185cb",
   "metadata": {
    "tags": []
   },
   "outputs": [],
   "source": [
    "import numpy as np\n",
    "from numpy import linalg as la\n",
    "import pandas as pd\n",
    "import matplotlib.pyplot as plt\n",
    "from sklearn.linear_model import LinearRegression\n",
    "from sklearn.metrics import mean_squared_error as MSE\n",
    "from sklearn.model_selection import train_test_split\n",
    "from sklearn.preprocessing import StandardScaler\n",
    "from sklearn.utils import shuffle\n",
    "\n",
    "RANDOM_STATE = 42"
   ]
  },
  {
   "cell_type": "markdown",
   "id": "76601faa-23ef-4fac-b13e-e4cb792d0496",
   "metadata": {},
   "source": [
    "## Data Info"
   ]
  },
  {
   "cell_type": "code",
   "execution_count": 3,
   "id": "ff7a0ce8-88b1-4ebc-8345-443735f7c38a",
   "metadata": {
    "tags": []
   },
   "outputs": [
    {
     "data": {
      "text/plain": [
       "Index(['total_images', 'last_price', 'total_area', 'first_day_exposition',\n",
       "       'rooms', 'ceiling_height', 'floors_total', 'living_area', 'floor',\n",
       "       'is_apartment', 'studio', 'open_plan', 'kitchen_area', 'balcony',\n",
       "       'locality_name', 'airports_nearest', 'cityCenters_nearest',\n",
       "       'parks_around3000', 'parks_nearest', 'ponds_around3000',\n",
       "       'ponds_nearest', 'days_exposition'],\n",
       "      dtype='object')"
      ]
     },
     "execution_count": 3,
     "metadata": {},
     "output_type": "execute_result"
    }
   ],
   "source": [
    "base = 'C:/Users/anton/OneDrive/data_science/yandex_practicum/datasets/'\n",
    "data = pd.read_csv(base + 'real_estate_data.csv', sep='\\t')\n",
    "\n",
    "# Quick data preprocess as I have already studied this dataset\n",
    "data = shuffle(data)\n",
    "data['last_price'] = data['last_price'] / 10**6\n",
    "data = data[data['last_price'] < 15]\n",
    "\n",
    "data.columns"
   ]
  },
  {
   "cell_type": "code",
   "execution_count": 4,
   "id": "fc861c87-c1f2-4ce5-96c3-09c93e269dee",
   "metadata": {
    "tags": []
   },
   "outputs": [
    {
     "data": {
      "image/png": "[encoded data removed]",
      "text/plain": [
       "<Figure size 640x480 with 1 Axes>"
      ]
     },
     "metadata": {},
     "output_type": "display_data"
    },
    {
     "name": "stdout",
     "output_type": "stream",
     "text": [
      "rooms\n",
      "1    8025\n",
      "2    7764\n",
      "3    5352\n",
      "4     890\n",
      "0     195\n",
      "5     184\n",
      "6      37\n",
      "7       7\n",
      "Name: count, dtype: int64\n"
     ]
    }
   ],
   "source": [
    "features = data[['total_area', 'rooms']]\n",
    "target = data['last_price']\n",
    "\n",
    "features = features.dropna()\n",
    "\n",
    "plt.hist(features['total_area'])\n",
    "plt.show()\n",
    "\n",
    "print(features['rooms'].value_counts())"
   ]
  },
  {
   "cell_type": "code",
   "execution_count": 5,
   "id": "fffc56b9-775c-45e6-a0cb-7dcc7a5addab",
   "metadata": {
    "tags": []
   },
   "outputs": [
    {
     "name": "stdout",
     "output_type": "stream",
     "text": [
      "X: (16840, 3) y: (16840,) X_test: (5614, 3) y_test: (5614,)\n"
     ]
    }
   ],
   "source": [
    "features_train, features_test, target_train, target_test =\\\n",
    "    train_test_split(features, target, shuffle=True)\n",
    "    \n",
    "scaler = StandardScaler()\n",
    "features_train = scaler.fit_transform(features_train)\n",
    "features_test = scaler.transform(features_test)\n",
    "\n",
    "X = np.concatenate((features_train, np.ones((len(features_train),1))), axis=1)\n",
    "y = target_train.values\n",
    "\n",
    "X_test = np.concatenate((features_test, np.ones((len(features_test),1))), axis=1)\n",
    "y_test = target_test.values\n",
    "\n",
    "print('X:', X.shape, 'y:', y.shape, 'X_test:', X_test.shape, 'y_test:', y_test.shape)"
   ]
  },
  {
   "cell_type": "markdown",
   "id": "54cf9773-1596-4009-b969-695d32150c2f",
   "metadata": {},
   "source": [
    "## Exact solution"
   ]
  },
  {
   "cell_type": "code",
   "execution_count": 6,
   "id": "d7ed41cf-d7e5-4704-9724-361e9d5bfb9a",
   "metadata": {
    "tags": []
   },
   "outputs": [
    {
     "name": "stdout",
     "output_type": "stream",
     "text": [
      "RMSE train: 1.7296635837975907\n",
      "RMSE test: 1.7658964365257988\n"
     ]
    }
   ],
   "source": [
    "# closed-form solution using normal equation\n",
    "theta = np.linalg.inv(X.T@X)@X.T@y\n",
    "predict_train = X@theta\n",
    "predict_test = X_test@theta\n",
    "\n",
    "print('RMSE train:', MSE(y, predict_train, squared=False))\n",
    "print('RMSE test:', MSE(y_test, predict_test, squared=False))"
   ]
  },
  {
   "cell_type": "code",
   "execution_count": 7,
   "id": "dc8c5b1e-baec-442e-8c97-ca34a500fca0",
   "metadata": {
    "tags": []
   },
   "outputs": [
    {
     "name": "stdout",
     "output_type": "stream",
     "text": [
      "RMSE train: 1.7296635837975909\n",
      "RMSE test: 1.7658964365257988\n"
     ]
    }
   ],
   "source": [
    "# Compare with SciKit Learn\n",
    "model = LinearRegression()\n",
    "model.fit(X, y)\n",
    "predict_train = model.predict(X)\n",
    "predict_test = model.predict(X_test)\n",
    "\n",
    "print('RMSE train:', MSE(y, predict_train, squared=False))\n",
    "print('RMSE test:', MSE(y_test, predict_test, squared=False))"
   ]
  },
  {
   "cell_type": "markdown",
   "id": "caa23fc4-f869-4ba1-8947-d275e55693b5",
   "metadata": {},
   "source": [
    "## Gradient descent implementation"
   ]
  },
  {
   "cell_type": "code",
   "execution_count": 8,
   "id": "a85278e6-522e-473e-8ca7-11f725ed401d",
   "metadata": {
    "tags": []
   },
   "outputs": [
    {
     "name": "stdout",
     "output_type": "stream",
     "text": [
      "Initial thetas: [0. 0. 0.]\n",
      "Final RMSE train: 1.729991062786724\n",
      "RMSE test: 1.7651924756738033\n"
     ]
    },
    {
     "data": {
      "image/png": "[encoded data removed]",
      "text/plain": [
       "<Figure size 640x480 with 1 Axes>"
      ]
     },
     "metadata": {},
     "output_type": "display_data"
    }
   ],
   "source": [
    "theta = np.zeros(X.shape[1])\n",
    "thetas = []\n",
    "thetas.append(theta)\n",
    "print('Initial thetas:', thetas[0])\n",
    "\n",
    "rmses = []\n",
    "rmses_test = []\n",
    "\n",
    "alpha = 0.00001\n",
    "n_steps = 100\n",
    "\n",
    "for _ in range(n_steps):\n",
    "    theta -= alpha * (X@theta - y) @ X\n",
    "    rmse = MSE(X@theta, y, squared=False)\n",
    "    rmse_test = MSE(X_test@theta, y_test, squared=False)\n",
    "    thetas.append(theta)\n",
    "    rmses.append(rmse)\n",
    "    rmses_test.append(rmse_test)\n",
    "\n",
    "plt.plot(rmses)\n",
    "plt.plot(rmses_test)\n",
    "print('Final RMSE train:', rmses[-1])\n",
    "print('RMSE test:', rmses_test[-1])"
   ]
  },
  {
   "cell_type": "code",
   "execution_count": null,
   "id": "0fa229f4-e868-4b9f-a4a9-99cfb81a3f35",
   "metadata": {},
   "outputs": [],
   "source": []
  },
  {
   "cell_type": "markdown",
   "id": "fffbd370-10e1-4c29-a8ac-320f0ed85e1a",
   "metadata": {},
   "source": [
    "### Stochastic Gradient descent"
   ]
  },
  {
   "cell_type": "code",
   "execution_count": 9,
   "id": "252a5006-553d-439b-bcb5-6ee6dbeeb61f",
   "metadata": {
    "tags": []
   },
   "outputs": [
    {
     "name": "stdout",
     "output_type": "stream",
     "text": [
      "Best score train: 1.7855915497670856\n"
     ]
    },
    {
     "data": {
      "image/png": "[encoded data removed]",
      "text/plain": [
       "<Figure size 640x480 with 1 Axes>"
      ]
     },
     "metadata": {},
     "output_type": "display_data"
    }
   ],
   "source": [
    "# stochastic gradiend descent\n",
    "index = 0\n",
    "B = 10 # batch size\n",
    "alpha = 0.01\n",
    "theta = np.zeros(X.shape[1])\n",
    "rmses = []\n",
    "total_steps = 100\n",
    "step = 0\n",
    "while step <= total_steps:\n",
    "    step += 1\n",
    "    X_batch = X[index:index+B]\n",
    "    y_batch = y[index:index+B]\n",
    "    theta -= alpha * (X_batch@theta - y_batch) @ X_batch\n",
    "    \n",
    "    rmse = MSE(X@theta, y, squared=False)\n",
    "    rmses.append(rmse)\n",
    "    index += B\n",
    "pd.Series(rmses).plot(title='RMSE train')\n",
    "print('Best score train:', rmses[-1])"
   ]
  },
  {
   "cell_type": "code",
   "execution_count": null,
   "id": "71688606-713a-4a74-a557-77fdde0a52ad",
   "metadata": {},
   "outputs": [],
   "source": []
  },
  {
   "cell_type": "markdown",
   "id": "5a563547-f699-40a8-ae6b-4bb3b3878369",
   "metadata": {
    "tags": []
   },
   "source": [
    "## Regularization"
   ]
  },
  {
   "cell_type": "markdown",
   "id": "13f6b945-c615-40d5-a551-f5434e24d18a",
   "metadata": {},
   "source": [
    "### L2 regularization"
   ]
  },
  {
   "cell_type": "code",
   "execution_count": 10,
   "id": "3f3e228a-a627-4d8b-a723-bc32041a6e92",
   "metadata": {
    "tags": []
   },
   "outputs": [
    {
     "name": "stdout",
     "output_type": "stream",
     "text": [
      "RMSE train: 2.191332920550146\n",
      "RMSE test: 2.188736813865383\n",
      "Final thetas: [0.59237007 0.28008653 5.13607192]\n"
     ]
    }
   ],
   "source": [
    "# closed-form solution using normal equation\n",
    "lmbd = 2 * X.shape[0] # compensation for X size\n",
    "identity = np.identity(X.shape[1])\n",
    "# important step:\n",
    "identity[-1] = 0\n",
    "\n",
    "theta = np.linalg.inv(X.T@X + lmbd * identity)@X.T@y\n",
    "predict_train = X@theta\n",
    "predict_test = X_test@theta\n",
    "\n",
    "print('RMSE train:', MSE(y, predict_train, squared=False))\n",
    "print('RMSE test:', MSE(y_test, predict_test, squared=False))\n",
    "print('Final thetas:', theta)"
   ]
  },
  {
   "cell_type": "code",
   "execution_count": 11,
   "id": "56ceefaf-844e-4367-8b10-5d4b821aeac8",
   "metadata": {
    "tags": []
   },
   "outputs": [
    {
     "name": "stdout",
     "output_type": "stream",
     "text": [
      "Initial thetas: [0. 0. 0.]\n",
      "Final RMSE train: 2.191544273728786\n",
      "RMSE test: 2.1892115591842036\n",
      "Final thetas: [0.59236874 0.28008787 5.10566366]\n"
     ]
    },
    {
     "data": {
      "image/png": "[encoded data removed]",
      "text/plain": [
       "<Figure size 640x480 with 1 Axes>"
      ]
     },
     "metadata": {},
     "output_type": "display_data"
    }
   ],
   "source": [
    "theta = np.zeros(X.shape[1])\n",
    "thetas = []\n",
    "thetas.append(theta)\n",
    "print('Initial thetas:', thetas[0])\n",
    "\n",
    "rmses = []\n",
    "rmses_test = []\n",
    "\n",
    "alpha = 0.05 / X.shape[0]\n",
    "lmbd = 2 * X.shape[0]\n",
    "n_steps = 100\n",
    "\n",
    "for _ in range(n_steps):\n",
    "    dummy_theta = theta.copy()\n",
    "    dummy_theta[2] = 0\n",
    "    theta -= alpha * ((X@theta - y) @ X + lmbd * dummy_theta)\n",
    "    rmse = MSE(y, X@theta, squared=False)\n",
    "    rmse_test = MSE(y_test, X_test@theta, squared=False)\n",
    "    \n",
    "    thetas.append(theta)\n",
    "    rmses.append(rmse)\n",
    "    rmses_test.append(rmse_test)\n",
    "\n",
    "plt.plot(rmses)\n",
    "plt.plot(rmses_test)\n",
    "print('Final RMSE train:', rmses[-1])\n",
    "print('RMSE test:', rmses_test[-1])\n",
    "print('Final thetas:', thetas[-1])"
   ]
  },
  {
   "cell_type": "code",
   "execution_count": null,
   "id": "d41fbc03-d2ce-42d4-9062-a3a16664c6c1",
   "metadata": {},
   "outputs": [],
   "source": []
  },
  {
   "cell_type": "markdown",
   "id": "0480ef19-25fe-40ac-b345-15fe6d7ef341",
   "metadata": {},
   "source": [
    "### L1 regularization"
   ]
  },
  {
   "cell_type": "code",
   "execution_count": 17,
   "id": "f1d8abb5-5b38-4bcd-b8c5-0a9c981a57bf",
   "metadata": {
    "tags": []
   },
   "outputs": [
    {
     "name": "stdout",
     "output_type": "stream",
     "text": [
      "Initial thetas: [0. 0. 0.]\n",
      "Final RMSE train: 2.5682460892663377\n",
      "RMSE test: 2.5661532469250634\n",
      "Final thetas: [0.1073049  0.08464075 5.10566366]\n"
     ]
    },
    {
     "data": {
      "image/png": "[encoded data removed]",
      "text/plain": [
       "<Figure size 640x480 with 1 Axes>"
      ]
     },
     "metadata": {},
     "output_type": "display_data"
    }
   ],
   "source": [
    "theta = np.zeros(X.shape[1])\n",
    "thetas = []\n",
    "thetas.append(theta)\n",
    "print('Initial thetas:', thetas[0])\n",
    "\n",
    "rmses = []\n",
    "rmses_test = []\n",
    "\n",
    "alpha = 0.05 / X.shape[0]\n",
    "lmbd = 2 * X.shape[0]\n",
    "n_steps = 100\n",
    "\n",
    "for _ in range(n_steps):\n",
    "    dummy_theta = theta.copy()\n",
    "    dummy_theta[2] = 0\n",
    "    theta -= alpha * ((X@theta - y) @ X + lmbd * np.sign(dummy_theta))\n",
    "    rmse = MSE(y, X@theta, squared=False)\n",
    "    rmse_test = MSE(y_test, X_test@theta, squared=False)\n",
    "    \n",
    "    thetas.append(theta)\n",
    "    rmses.append(rmse)\n",
    "    rmses_test.append(rmse_test)\n",
    "\n",
    "plt.plot(rmses)\n",
    "plt.plot(rmses_test)\n",
    "print('Final RMSE train:', rmses[-1])\n",
    "print('RMSE test:', rmses_test[-1])\n",
    "print('Final thetas:', thetas[-1])"
   ]
  },
  {
   "cell_type": "code",
   "execution_count": null,
   "id": "65a11653-65a2-4cf5-9540-ba8c91e1007e",
   "metadata": {},
   "outputs": [],
   "source": []
  }
 ],
 "metadata": {
  "kernelspec": {
   "display_name": "Python 3 (ipykernel)",
   "language": "python",
   "name": "python3"
  },
  "language_info": {
   "codemirror_mode": {
    "name": "ipython",
    "version": 3
   },
   "file_extension": ".py",
   "mimetype": "text/x-python",
   "name": "python",
   "nbconvert_exporter": "python",
   "pygments_lexer": "ipython3",
   "version": "3.11.7"
  }
 },
 "nbformat": 4,
 "nbformat_minor": 5
}
